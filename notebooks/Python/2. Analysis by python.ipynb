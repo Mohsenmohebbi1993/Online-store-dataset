{
 "cells": [
  {
   "cell_type": "markdown",
   "metadata": {},
   "source": [
    "### Analiysis Data\n",
    "1. conncet python and MySQL   \n",
    "2. Read name of dataframe as folder   "
   ]
  },
  {
   "cell_type": "code",
   "execution_count": 2,
   "metadata": {},
   "outputs": [],
   "source": [
    "# basic Library\n",
    "import os\n",
    "\n",
    "# Connector python and MySQL\n",
    "import pymysql\n",
    "import json\n",
    "\n",
    "# Analysis Library\n",
    "import numpy as np\n",
    "import pandas as pd\n",
    "\n",
    "# Statistical Library\n",
    "import scipy.stats as stats\n",
    "\n",
    "# Plot Library\n",
    "import matplotlib as plt\n",
    "import seaborn as sns\n"
   ]
  },
  {
   "cell_type": "markdown",
   "metadata": {},
   "source": [
    "1. connect python and MySQL"
   ]
  },
  {
   "cell_type": "code",
   "execution_count": 3,
   "metadata": {},
   "outputs": [
    {
     "name": "stdout",
     "output_type": "stream",
     "text": [
      "{'host': 'localhost', 'port': 3306, 'user': 'root', 'password': '123456789', 'database': 'online_store_dataset'}\n",
      "Connected to MySQL successfully!\n"
     ]
    }
   ],
   "source": [
    "# config databsae\n",
    "with open (\"D:/python/Online store dataset/Analysis data/notebooks/Python/config.json\",\"r\") as config_file:\n",
    "    db_config = json.load(config_file)\n",
    "\n",
    "print(db_config)\n",
    "\n",
    "# connector database\n",
    "conn = pymysql.connect(\n",
    "    host=db_config['host'],\n",
    "    port=db_config['port'],\n",
    "    user=db_config['user'],\n",
    "    password=db_config['password'],\n",
    "    database=db_config['database']\n",
    ")\n",
    "\n",
    "print(\"Connected to MySQL successfully!\")"
   ]
  },
  {
   "cell_type": "markdown",
   "metadata": {},
   "source": [
    "path of file and read name of table"
   ]
  },
  {
   "cell_type": "code",
   "execution_count": 4,
   "metadata": {},
   "outputs": [],
   "source": [
    "path = \"D:/python/Online store dataset/Analysis data/data/processed/dataframe\"\n",
    "dir_list = os.listdir(path)"
   ]
  },
  {
   "cell_type": "markdown",
   "metadata": {},
   "source": [
    "Read Table and Create Dataframe "
   ]
  },
  {
   "cell_type": "code",
   "execution_count": 5,
   "metadata": {},
   "outputs": [
    {
     "name": "stdout",
     "output_type": "stream",
     "text": [
      "name customers    and file customers\n",
      "name employees    and file employees\n",
      "name offices    and file offices\n",
      "name orderdetails    and file orderdetails\n",
      "name orders    and file orders\n",
      "name payments    and file payments\n",
      "name productlines    and file productlines\n",
      "name products    and file products\n"
     ]
    }
   ],
   "source": [
    "variable_names = dir_list.copy()\n",
    "for i in range(len(variable_names)):\n",
    "    variable_names[i] = variable_names[i].replace(\".csv\",\"\")\n",
    "\n",
    "file_names = dir_list\n",
    "\n",
    "for var_name, file_name in zip(variable_names, file_names):\n",
    "    print(f\"name {var_name}    and file {var_name}\")\n",
    "    globals()[var_name] = (pd.read_csv(f'D:/python/Online store dataset/Analysis data/data/processed/dataframe/{file_name}')\n",
    "                            .drop(\"Unnamed: 0\", axis=1))"
   ]
  }
 ],
 "metadata": {
  "kernelspec": {
   "display_name": "online_store_venv",
   "language": "python",
   "name": "python3"
  },
  "language_info": {
   "codemirror_mode": {
    "name": "ipython",
    "version": 3
   },
   "file_extension": ".py",
   "mimetype": "text/x-python",
   "name": "python",
   "nbconvert_exporter": "python",
   "pygments_lexer": "ipython3",
   "version": "3.13.2"
  }
 },
 "nbformat": 4,
 "nbformat_minor": 2
}
