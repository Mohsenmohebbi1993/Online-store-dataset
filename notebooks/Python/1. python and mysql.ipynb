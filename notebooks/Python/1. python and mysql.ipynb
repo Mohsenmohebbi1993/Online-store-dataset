{
 "cells": [
  {
   "cell_type": "code",
   "execution_count": 1,
   "metadata": {},
   "outputs": [],
   "source": [
    "import pymysql\n",
    "import json\n",
    "import numpy as np\n",
    "import pandas as pd"
   ]
  },
  {
   "cell_type": "code",
   "execution_count": 2,
   "metadata": {},
   "outputs": [],
   "source": [
    "import json\n",
    "config = {\n",
    "  \"host\": \"localhost\",\n",
    "  \"port\": 3306,\n",
    "  \"user\": \"root\",\n",
    "  \"password\": \"123456789\",\n",
    "  \"database\": \"online_store_dataset\"\n",
    "}\n",
    "with open(\"D:/python/Online store dataset/Analysis data/notebooks/Python/config.json\", \"w\") as outfile: \n",
    "    json.dump(config, outfile)"
   ]
  },
  {
   "cell_type": "code",
   "execution_count": 2,
   "metadata": {},
   "outputs": [],
   "source": [
    "with open (\"D:/python/Online store dataset/Analysis data/notebooks/Python/config.json\",\"r\") as config_file:\n",
    "    db_config = json.load(config_file)\n",
    "    "
   ]
  },
  {
   "cell_type": "code",
   "execution_count": 3,
   "metadata": {},
   "outputs": [
    {
     "name": "stdout",
     "output_type": "stream",
     "text": [
      "{'host': 'localhost', 'port': 3306, 'user': 'root', 'password': '123456789', 'database': 'online_store_dataset'}\n"
     ]
    }
   ],
   "source": [
    "print(db_config)"
   ]
  },
  {
   "cell_type": "code",
   "execution_count": 4,
   "metadata": {},
   "outputs": [
    {
     "name": "stdout",
     "output_type": "stream",
     "text": [
      "Connected to MySQL successfully!\n"
     ]
    }
   ],
   "source": [
    "conn = pymysql.connect(\n",
    "    host=db_config['host'],\n",
    "    port=db_config['port'],\n",
    "    user=db_config['user'],\n",
    "    password=db_config['password'],\n",
    "    database=db_config['database']\n",
    ")\n",
    "\n",
    "print(\"Connected to MySQL successfully!\")"
   ]
  },
  {
   "cell_type": "code",
   "execution_count": 5,
   "metadata": {},
   "outputs": [
    {
     "name": "stderr",
     "output_type": "stream",
     "text": [
      "C:\\Users\\user\\Oracel19c\\admin\\orcl\\Temp\\ipykernel_9640\\1478590201.py:2: UserWarning: pandas only supports SQLAlchemy connectable (engine/connection) or database string URI or sqlite3 DBAPI2 connection. Other DBAPI2 objects are not tested. Please consider using SQLAlchemy.\n",
      "  name_of_tabels =pd.read_sql(name_tables_database, conn)\n"
     ]
    },
    {
     "data": {
      "text/html": [
       "<div>\n",
       "<style scoped>\n",
       "    .dataframe tbody tr th:only-of-type {\n",
       "        vertical-align: middle;\n",
       "    }\n",
       "\n",
       "    .dataframe tbody tr th {\n",
       "        vertical-align: top;\n",
       "    }\n",
       "\n",
       "    .dataframe thead th {\n",
       "        text-align: right;\n",
       "    }\n",
       "</style>\n",
       "<table border=\"1\" class=\"dataframe\">\n",
       "  <thead>\n",
       "    <tr style=\"text-align: right;\">\n",
       "      <th></th>\n",
       "      <th>Tables_in_online_store_dataset</th>\n",
       "    </tr>\n",
       "  </thead>\n",
       "  <tbody>\n",
       "    <tr>\n",
       "      <th>0</th>\n",
       "      <td>customers</td>\n",
       "    </tr>\n",
       "    <tr>\n",
       "      <th>1</th>\n",
       "      <td>employees</td>\n",
       "    </tr>\n",
       "    <tr>\n",
       "      <th>2</th>\n",
       "      <td>offices</td>\n",
       "    </tr>\n",
       "    <tr>\n",
       "      <th>3</th>\n",
       "      <td>orderdetails</td>\n",
       "    </tr>\n",
       "    <tr>\n",
       "      <th>4</th>\n",
       "      <td>orders</td>\n",
       "    </tr>\n",
       "    <tr>\n",
       "      <th>5</th>\n",
       "      <td>payments</td>\n",
       "    </tr>\n",
       "    <tr>\n",
       "      <th>6</th>\n",
       "      <td>productlines</td>\n",
       "    </tr>\n",
       "    <tr>\n",
       "      <th>7</th>\n",
       "      <td>products</td>\n",
       "    </tr>\n",
       "  </tbody>\n",
       "</table>\n",
       "</div>"
      ],
      "text/plain": [
       "  Tables_in_online_store_dataset\n",
       "0                      customers\n",
       "1                      employees\n",
       "2                        offices\n",
       "3                   orderdetails\n",
       "4                         orders\n",
       "5                       payments\n",
       "6                   productlines\n",
       "7                       products"
      ]
     },
     "execution_count": 5,
     "metadata": {},
     "output_type": "execute_result"
    }
   ],
   "source": [
    "name_tables_database = \"show tables\"\n",
    "name_of_tabels =pd.read_sql(name_tables_database, conn)\n",
    "name_of_tabels"
   ]
  },
  {
   "cell_type": "code",
   "execution_count": 7,
   "metadata": {},
   "outputs": [
    {
     "data": {
      "text/plain": [
       "0       customers\n",
       "1       employees\n",
       "2         offices\n",
       "3    orderdetails\n",
       "4          orders\n",
       "5        payments\n",
       "6    productlines\n",
       "7        products\n",
       "Name: Tables_in_online_store_dataset, dtype: object"
      ]
     },
     "execution_count": 7,
     "metadata": {},
     "output_type": "execute_result"
    }
   ],
   "source": [
    "name_of_tabels[\"Tables_in_online_store_dataset\"]"
   ]
  },
  {
   "cell_type": "code",
   "execution_count": null,
   "metadata": {},
   "outputs": [],
   "source": [
    "import os\n",
    "for table_name in name_of_tabels[\"Tables_in_online_store_dataset\"]:\n",
    "    query = f\"SELECT * FROM {table_name}\"\n",
    "    df = pd.read_sql(query, conn)\n",
    "    globals()[table_name] = df\n",
    "    print(f\"table ----- {table_name}\")\n"
   ]
  },
  {
   "cell_type": "code",
   "execution_count": 14,
   "metadata": {},
   "outputs": [
    {
     "name": "stderr",
     "output_type": "stream",
     "text": [
      "C:\\Users\\user\\Oracel19c\\admin\\orcl\\Temp\\ipykernel_9640\\3229501128.py:7: UserWarning: pandas only supports SQLAlchemy connectable (engine/connection) or database string URI or sqlite3 DBAPI2 connection. Other DBAPI2 objects are not tested. Please consider using SQLAlchemy.\n",
      "  globals()[var_name] = pd.read_sql(file_name, conn)\n"
     ]
    }
   ],
   "source": [
    "variable_names = list(name_of_tabels[\"Tables_in_online_store_dataset\"])\n",
    "file_names = []\n",
    "for i in range(len(variable_names)):\n",
    "    a = f\"\"\"SELECT * from {name_of_tabels.iloc[i][\"Tables_in_online_store_dataset\"]}\"\"\"\n",
    "    file_names.append(a)\n",
    "for var_name, file_name in zip(variable_names, file_names):\n",
    "    globals()[var_name] = pd.read_sql(file_name, conn)\n",
    "\n",
    "for var_name in variable_names:\n",
    "    globals()[var_name].to_csv(f'D:/python/Online store dataset/Analysis data/notebooks/Python/data/processed/dataframe/{var_name}.csv')\n"
   ]
  },
  {
   "cell_type": "code",
   "execution_count": 13,
   "metadata": {},
   "outputs": [
    {
     "data": {
      "text/html": [
       "<div>\n",
       "<style scoped>\n",
       "    .dataframe tbody tr th:only-of-type {\n",
       "        vertical-align: middle;\n",
       "    }\n",
       "\n",
       "    .dataframe tbody tr th {\n",
       "        vertical-align: top;\n",
       "    }\n",
       "\n",
       "    .dataframe thead th {\n",
       "        text-align: right;\n",
       "    }\n",
       "</style>\n",
       "<table border=\"1\" class=\"dataframe\">\n",
       "  <thead>\n",
       "    <tr style=\"text-align: right;\">\n",
       "      <th></th>\n",
       "      <th>customerNumber</th>\n",
       "      <th>checkNumber</th>\n",
       "      <th>paymentDate</th>\n",
       "      <th>amount</th>\n",
       "    </tr>\n",
       "  </thead>\n",
       "  <tbody>\n",
       "    <tr>\n",
       "      <th>0</th>\n",
       "      <td>103</td>\n",
       "      <td>HQ336336</td>\n",
       "      <td>2004-10-19</td>\n",
       "      <td>6066.78</td>\n",
       "    </tr>\n",
       "    <tr>\n",
       "      <th>1</th>\n",
       "      <td>103</td>\n",
       "      <td>JM555205</td>\n",
       "      <td>2003-06-05</td>\n",
       "      <td>14571.44</td>\n",
       "    </tr>\n",
       "    <tr>\n",
       "      <th>2</th>\n",
       "      <td>103</td>\n",
       "      <td>OM314933</td>\n",
       "      <td>2004-12-18</td>\n",
       "      <td>1676.14</td>\n",
       "    </tr>\n",
       "    <tr>\n",
       "      <th>3</th>\n",
       "      <td>112</td>\n",
       "      <td>BO864823</td>\n",
       "      <td>2004-12-17</td>\n",
       "      <td>14191.12</td>\n",
       "    </tr>\n",
       "    <tr>\n",
       "      <th>4</th>\n",
       "      <td>112</td>\n",
       "      <td>HQ55022</td>\n",
       "      <td>2003-06-06</td>\n",
       "      <td>32641.98</td>\n",
       "    </tr>\n",
       "    <tr>\n",
       "      <th>...</th>\n",
       "      <td>...</td>\n",
       "      <td>...</td>\n",
       "      <td>...</td>\n",
       "      <td>...</td>\n",
       "    </tr>\n",
       "    <tr>\n",
       "      <th>268</th>\n",
       "      <td>495</td>\n",
       "      <td>BH167026</td>\n",
       "      <td>2003-12-26</td>\n",
       "      <td>59265.14</td>\n",
       "    </tr>\n",
       "    <tr>\n",
       "      <th>269</th>\n",
       "      <td>495</td>\n",
       "      <td>FN155234</td>\n",
       "      <td>2004-05-14</td>\n",
       "      <td>6276.60</td>\n",
       "    </tr>\n",
       "    <tr>\n",
       "      <th>270</th>\n",
       "      <td>496</td>\n",
       "      <td>EU531600</td>\n",
       "      <td>2005-05-25</td>\n",
       "      <td>30253.75</td>\n",
       "    </tr>\n",
       "    <tr>\n",
       "      <th>271</th>\n",
       "      <td>496</td>\n",
       "      <td>MB342426</td>\n",
       "      <td>2003-07-16</td>\n",
       "      <td>32077.44</td>\n",
       "    </tr>\n",
       "    <tr>\n",
       "      <th>272</th>\n",
       "      <td>496</td>\n",
       "      <td>MN89921</td>\n",
       "      <td>2004-12-31</td>\n",
       "      <td>52166.00</td>\n",
       "    </tr>\n",
       "  </tbody>\n",
       "</table>\n",
       "<p>273 rows × 4 columns</p>\n",
       "</div>"
      ],
      "text/plain": [
       "     customerNumber checkNumber paymentDate    amount\n",
       "0               103    HQ336336  2004-10-19   6066.78\n",
       "1               103    JM555205  2003-06-05  14571.44\n",
       "2               103    OM314933  2004-12-18   1676.14\n",
       "3               112    BO864823  2004-12-17  14191.12\n",
       "4               112     HQ55022  2003-06-06  32641.98\n",
       "..              ...         ...         ...       ...\n",
       "268             495    BH167026  2003-12-26  59265.14\n",
       "269             495    FN155234  2004-05-14   6276.60\n",
       "270             496    EU531600  2005-05-25  30253.75\n",
       "271             496    MB342426  2003-07-16  32077.44\n",
       "272             496     MN89921  2004-12-31  52166.00\n",
       "\n",
       "[273 rows x 4 columns]"
      ]
     },
     "execution_count": 13,
     "metadata": {},
     "output_type": "execute_result"
    }
   ],
   "source": [
    "payments"
   ]
  }
 ],
 "metadata": {
  "kernelspec": {
   "display_name": "online_store_venv",
   "language": "python",
   "name": "python3"
  },
  "language_info": {
   "codemirror_mode": {
    "name": "ipython",
    "version": 3
   },
   "file_extension": ".py",
   "mimetype": "text/x-python",
   "name": "python",
   "nbconvert_exporter": "python",
   "pygments_lexer": "ipython3",
   "version": "3.13.2"
  }
 },
 "nbformat": 4,
 "nbformat_minor": 2
}
